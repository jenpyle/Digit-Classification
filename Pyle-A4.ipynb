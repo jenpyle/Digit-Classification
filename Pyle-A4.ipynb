{
 "cells": [
  {
   "cell_type": "markdown",
   "metadata": {},
   "source": [
    "# A4 Classification of Hand-Drawn Digits\n",
    "\n",
    "* A4.1: *Now includes `optimizers.py`*\n",
    "* A4.2: *Added `A4grader.zip` and extra credit.*\n",
    "\n",
    "In this assignment, you will define a new class named `NeuralNetworkClassifier` that extends the `NeuralNetwork` class provided here and is the solution to Assignment A2.  You will use `NeuralNetworkClassifier` to train a classifier of hand-drawn digits.\n",
    "\n",
    "You will also define the function `confusion_matrix`."
   ]
  },
  {
   "cell_type": "markdown",
   "metadata": {},
   "source": [
    "## `NeuralNetwork` class"
   ]
  },
  {
   "cell_type": "code",
   "execution_count": 1,
   "metadata": {},
   "outputs": [],
   "source": [
    "import matplotlib.pyplot as plt"
   ]
  },
  {
   "cell_type": "markdown",
   "metadata": {},
   "source": [
    "The following code cell will write its contents to `optimizers.py` so the `import optimizers` statement in the code cell after it will work correctly."
   ]
  },
  {
   "cell_type": "code",
   "execution_count": 2,
   "metadata": {},
   "outputs": [
    {
     "name": "stdout",
     "output_type": "stream",
     "text": [
      "Overwriting optimizers.py\n"
     ]
    }
   ],
   "source": [
    "%%writefile optimizers.py\n",
    "import numpy as np\n",
    "\n",
    "######################################################################\n",
    "## class Optimizers()\n",
    "######################################################################\n",
    "\n",
    "class Optimizers():\n",
    "\n",
    "    def __init__(self, all_weights):\n",
    "        '''all_weights is a vector of all of a neural networks weights concatenated into a one-dimensional vector'''\n",
    "        \n",
    "        self.all_weights = all_weights\n",
    "\n",
    "        # The following initializations are only used by adam.\n",
    "        # Only initializing m, v, beta1t and beta2t here allows multiple calls to adam to handle training\n",
    "        # with multiple subsets (batches) of training data.\n",
    "        self.mt = np.zeros_like(all_weights)\n",
    "        self.vt = np.zeros_like(all_weights)\n",
    "        self.beta1 = 0.9\n",
    "        self.beta2 = 0.999\n",
    "        self.beta1t = 1\n",
    "        self.beta2t = 1\n",
    "\n",
    "        \n",
    "    def sgd(self, error_f, gradient_f, fargs=[], n_epochs=100, learning_rate=0.001, verbose=True, error_convert_f=None):\n",
    "        '''\n",
    "error_f: function that requires X and T as arguments (given in fargs) and returns mean squared error.\n",
    "gradient_f: function that requires X and T as arguments (in fargs) and returns gradient of mean squared error\n",
    "            with respect to each weight.\n",
    "error_convert_f: function that converts the standardized error from error_f to original T units.\n",
    "        '''\n",
    "\n",
    "        error_trace = []\n",
    "        epochs_per_print = n_epochs // 10\n",
    "\n",
    "        for epoch in range(n_epochs):\n",
    "\n",
    "            error = error_f(*fargs)\n",
    "            grad = gradient_f(*fargs)\n",
    "\n",
    "            # Update all weights using -= to modify their values in-place.\n",
    "            self.all_weights -= learning_rate * grad\n",
    "\n",
    "            if error_convert_f:\n",
    "                error = error_convert_f(error)\n",
    "            error_trace.append(error)\n",
    "\n",
    "            if verbose and ((epoch + 1) % max(1, epochs_per_print) == 0):\n",
    "                print(f'sgd: Epoch {epoch+1:d} Error={error:.5f}')\n",
    "\n",
    "        return error_trace\n",
    "\n",
    "    def adam(self, error_f, gradient_f, fargs=[], n_epochs=100, learning_rate=0.001, verbose=True, error_convert_f=None):\n",
    "\n",
    "\n",
    "        alpha = learning_rate  # learning rate called alpha in original paper on adam\n",
    "        epsilon = 1e-8\n",
    "        error_trace = []\n",
    "        epochs_per_print = n_epochs // 10\n",
    "\n",
    "        for epoch in range(n_epochs):\n",
    "\n",
    "            error = error_f(*fargs)\n",
    "            grad = gradient_f(*fargs)\n",
    "\n",
    "            self.mt[:] = self.beta1 * self.mt + (1 - self.beta1) * grad\n",
    "            self.vt[:] = self.beta2 * self.vt + (1 - self.beta2) * grad * grad\n",
    "            self.beta1t *= self.beta1\n",
    "            self.beta2t *= self.beta2\n",
    "\n",
    "            m_hat = self.mt / (1 - self.beta1t)\n",
    "            v_hat = self.vt / (1 - self.beta2t)\n",
    "\n",
    "            # Update all weights using -= to modify their values in-place.\n",
    "            self.all_weights -= alpha * m_hat / (np.sqrt(v_hat) + epsilon)\n",
    "    \n",
    "            if error_convert_f:\n",
    "                error = error_convert_f(error)\n",
    "            error_trace.append(error)\n",
    "\n",
    "            if verbose and ((epoch + 1) % max(1, epochs_per_print) == 0):\n",
    "                print(f'Adam: Epoch {epoch+1:d} Error={error:.5f}')\n",
    "\n",
    "        return error_trace\n",
    "\n",
    "if __name__ == '__main__':\n",
    "\n",
    "    import matplotlib.pyplot as plt\n",
    "    plt.ion()\n",
    "\n",
    "    def parabola(wmin):\n",
    "        return ((w - wmin) ** 2)[0]\n",
    "\n",
    "    def parabola_gradient(wmin):\n",
    "        return 2 * (w - wmin)\n",
    "\n",
    "    w = np.array([0.0])\n",
    "    optimizer = Optimizers(w)\n",
    "\n",
    "    wmin = 5\n",
    "    optimizer.sgd(parabola, parabola_gradient, [wmin],\n",
    "                  n_epochs=500, learning_rate=0.1)\n",
    "\n",
    "    print(f'sgd: Minimum of parabola is at {wmin}. Value found is {w}')\n",
    "\n",
    "    w = np.array([0.0])\n",
    "    optimizer = Optimizers(w)\n",
    "    optimizer.adam(parabola, parabola_gradient, [wmin],\n",
    "                   n_epochs=500, learning_rate=0.1)\n",
    "    \n",
    "    print(f'adam: Minimum of parabola is at {wmin}. Value found is {w}')"
   ]
  },
  {
   "cell_type": "code",
   "execution_count": 3,
   "metadata": {},
   "outputs": [],
   "source": [
    "import numpy as np\n",
    "import optimizers\n",
    "import sys  # for sys.float_info.epsilon\n",
    "\n",
    "######################################################################\n",
    "## class NeuralNetwork()\n",
    "######################################################################\n",
    "\n",
    "class NeuralNetwork():\n",
    "\n",
    "\n",
    "    def __init__(self, n_inputs, n_hiddens_per_layer, n_outputs, activation_function='tanh'):\n",
    "        self.n_inputs = n_inputs\n",
    "        self.n_outputs = n_outputs\n",
    "        self.activation_function = activation_function\n",
    "\n",
    "        # Set self.n_hiddens_per_layer to [] if argument is 0, [], or [0]\n",
    "        if n_hiddens_per_layer == 0 or n_hiddens_per_layer == [] or n_hiddens_per_layer == [0]:\n",
    "            self.n_hiddens_per_layer = []\n",
    "        else:\n",
    "            self.n_hiddens_per_layer = n_hiddens_per_layer\n",
    "\n",
    "        # Initialize weights, by first building list of all weight matrix shapes.\n",
    "        n_in = n_inputs\n",
    "        shapes = []\n",
    "        for nh in self.n_hiddens_per_layer:\n",
    "            shapes.append((n_in + 1, nh))\n",
    "            n_in = nh\n",
    "        shapes.append((n_in + 1, n_outputs))\n",
    "\n",
    "        # self.all_weights:  vector of all weights\n",
    "        # self.Ws: list of weight matrices by layer\n",
    "        self.all_weights, self.Ws = self.make_weights_and_views(shapes)\n",
    "\n",
    "        # Define arrays to hold gradient values.\n",
    "        # One array for each W array with same shape.\n",
    "        self.all_gradients, self.dE_dWs = self.make_weights_and_views(shapes)\n",
    "\n",
    "        self.trained = False\n",
    "        self.total_epochs = 0\n",
    "        self.error_trace = []\n",
    "        self.Xmeans = None\n",
    "        self.Xstds = None\n",
    "        self.Tmeans = None\n",
    "        self.Tstds = None\n",
    "\n",
    "\n",
    "    def make_weights_and_views(self, shapes):\n",
    "        # vector of all weights built by horizontally stacking flatenned matrices\n",
    "        # for each layer initialized with uniformly-distributed values.\n",
    "        all_weights = np.hstack([np.random.uniform(size=shape).flat / np.sqrt(shape[0])\n",
    "                                 for shape in shapes])\n",
    "        # Build list of views by reshaping corresponding elements from vector of all weights\n",
    "        # into correct shape for each layer.\n",
    "        views = []\n",
    "        start = 0\n",
    "        for shape in shapes:\n",
    "            size =shape[0] * shape[1]\n",
    "            views.append(all_weights[start:start + size].reshape(shape))\n",
    "            start += size\n",
    "        return all_weights, views\n",
    "\n",
    "\n",
    "    # Return string that shows how the constructor was called\n",
    "    def __repr__(self):\n",
    "        return f'{type(self).__name__}({self.n_inputs}, {self.n_hiddens_per_layer}, {self.n_outputs}, \\'{self.activation_function}\\')'\n",
    "    '''\n",
    "    take out activation func\n",
    "    '''\n",
    "\n",
    "    # Return string that is more informative to the user about the state of this neural network.\n",
    "    def __str__(self):\n",
    "        result = self.__repr__()\n",
    "        if len(self.error_trace) > 0:\n",
    "            return self.__repr__() + f' trained for {len(self.error_trace)} epochs, final training error {self.error_trace[-1]:.4f}'\n",
    "\n",
    "\n",
    "    def train(self, X, T, n_epochs, learning_rate, method='sgd', verbose=True):\n",
    "        '''\n",
    "train: \n",
    "  X: n_samples x n_inputs matrix of input samples, one per row\n",
    "  T: n_samples x n_outputs matrix of target output values, one sample per row\n",
    "  n_epochs: number of passes to take through all samples updating weights each pass\n",
    "  learning_rate: factor controlling the step size of each update\n",
    "  method: is either 'sgd' or 'adam'\n",
    "        '''\n",
    "\n",
    "        # Setup standardization parameters\n",
    "        if self.Xmeans is None:\n",
    "            self.Xmeans = X.mean(axis=0)\n",
    "            self.Xstds = X.std(axis=0)\n",
    "            self.Xstds[self.Xstds == 0] = 1  # So we don't divide by zero when standardizing\n",
    "            self.Tmeans = T.mean(axis=0)\n",
    "            self.Tstds = T.std(axis=0)\n",
    "            \n",
    "        # Standardize X and T\n",
    "        X = (X - self.Xmeans) / self.Xstds\n",
    "        T = (T - self.Tmeans) / self.Tstds\n",
    "\n",
    "        # Instantiate Optimizers object by giving it vector of all weights\n",
    "        optimizer = optimizers.Optimizers(self.all_weights)\n",
    "\n",
    "        # Define function to convert value from error_f into error in original T units, \n",
    "        # but only if the network has a single output. Multiplying by self.Tstds for \n",
    "        # multiple outputs does not correctly unstandardize the error.\n",
    "        if len(self.Tstds) == 1:\n",
    "            error_convert_f = lambda err: (np.sqrt(err) * self.Tstds)[0] # to scalar\n",
    "        else:\n",
    "            error_convert_f = lambda err: np.sqrt(err)[0] # to scalar\n",
    "            \n",
    "\n",
    "        if method == 'sgd':\n",
    "\n",
    "            error_trace = optimizer.sgd(self.error_f, self.gradient_f,\n",
    "                                        fargs=[X, T], n_epochs=n_epochs,\n",
    "                                        learning_rate=learning_rate,\n",
    "                                        verbose=True,\n",
    "                                        error_convert_f=error_convert_f)\n",
    "\n",
    "        elif method == 'adam':\n",
    "\n",
    "            error_trace = optimizer.adam(self.error_f, self.gradient_f,\n",
    "                                         fargs=[X, T], n_epochs=n_epochs,\n",
    "                                         learning_rate=learning_rate,\n",
    "                                         verbose=True,\n",
    "                                         error_convert_f=error_convert_f)\n",
    "\n",
    "        else:\n",
    "            raise Exception(\"method must be 'sgd' or 'adam'\")\n",
    "        \n",
    "        self.error_trace = error_trace\n",
    "\n",
    "        # Return neural network object to allow applying other methods after training.\n",
    "        #  Example:    Y = nnet.train(X, T, 100, 0.01).use(X)\n",
    "        return self\n",
    "    '''\n",
    "    so heres where activation func and grad replace relu and grad relu\n",
    "\n",
    "    '''\n",
    "    def relu(self, s):\n",
    "        s[s < 0] = 0\n",
    "        return s\n",
    "\n",
    "    def grad_relu(self, s):\n",
    "        return (s > 0).astype(int)\n",
    "    \n",
    "        '''\n",
    "        replace self.relu and self.tanh with self.activation_function\n",
    "        '''\n",
    "    \n",
    "    def forward_pass(self, X):\n",
    "        '''X assumed already standardized. Output returned as standardized.'''\n",
    "        self.Ys = [X]\n",
    "        for W in self.Ws[:-1]:\n",
    "            if self.activation_function == 'relu':\n",
    "                self.Ys.append(self.relu(self.Ys[-1] @ W[1:, :] + W[0:1, :]))\n",
    "            else:\n",
    "                self.Ys.append(np.tanh(self.Ys[-1] @ W[1:, :] + W[0:1, :]))\n",
    "        last_W = self.Ws[-1]\n",
    "        self.Ys.append(self.Ys[-1] @ last_W[1:, :] + last_W[0:1, :])\n",
    "        return self.Ys\n",
    "\n",
    "    # Function to be minimized by optimizer method, mean squared error\n",
    "    def error_f(self, X, T):\n",
    "        Ys = self.forward_pass(X)\n",
    "        mean_sq_error = np.mean((T - Ys[-1]) ** 2)\n",
    "        return mean_sq_error\n",
    "\n",
    "    # Gradient of function to be minimized for use by optimizer method\n",
    "    def gradient_f(self, X, T):\n",
    "        '''Assumes forward_pass just called with layer outputs in self.Ys.'''\n",
    "        error = T - self.Ys[-1]\n",
    "        n_samples = X.shape[0]\n",
    "        n_outputs = T.shape[1]\n",
    "        delta = - error / (n_samples * n_outputs)\n",
    "        n_layers = len(self.n_hiddens_per_layer) + 1\n",
    "        # Step backwards through the layers to back-propagate the error (delta)\n",
    "        for layeri in range(n_layers - 1, -1, -1):\n",
    "            # gradient of all but bias weights\n",
    "            self.dE_dWs[layeri][1:, :] = self.Ys[layeri].T @ delta\n",
    "            # gradient of just the bias weights\n",
    "            self.dE_dWs[layeri][0:1, :] = np.sum(delta, 0)\n",
    "            # Back-propagate this layer's delta to previous layer\n",
    "            '''\n",
    "            replace if and else with this\n",
    "            delta = delta @ self.Ws[layeri][1:, :].T * activation_function_gradient(self.Ys[layeri])\n",
    "            '''            \n",
    "            if self.activation_function == 'relu':\n",
    "                delta = delta @ self.Ws[layeri][1:, :].T * self.grad_relu(self.Ys[layeri])\n",
    "            else:\n",
    "                delta = delta @ self.Ws[layeri][1:, :].T * (1 - self.Ys[layeri] ** 2)\n",
    "        return self.all_gradients\n",
    "\n",
    "    def use(self, X):\n",
    "        '''X assumed to not be standardized'''\n",
    "        # Standardize X\n",
    "        X = (X - self.Xmeans) / self.Xstds\n",
    "        Ys = self.forward_pass(X)\n",
    "        Y = Ys[-1]#apply softmax to these values\n",
    "        # Unstandardize output Y before returning it\n",
    "        return Y * self.Tstds + self.Tmeans"
   ]
  },
  {
   "cell_type": "code",
   "execution_count": 4,
   "metadata": {},
   "outputs": [
    {
     "name": "stdout",
     "output_type": "stream",
     "text": [
      "Adam: Epoch 25 Error=0.24367\n",
      "Adam: Epoch 50 Error=0.21188\n",
      "Adam: Epoch 75 Error=0.15579\n",
      "Adam: Epoch 100 Error=0.10126\n",
      "Adam: Epoch 125 Error=0.08061\n",
      "Adam: Epoch 150 Error=0.07021\n",
      "Adam: Epoch 175 Error=0.06236\n",
      "Adam: Epoch 200 Error=0.05577\n",
      "Adam: Epoch 225 Error=0.05012\n",
      "Adam: Epoch 250 Error=0.04526\n"
     ]
    },
    {
     "data": {
      "text/plain": [
       "<matplotlib.legend.Legend at 0x201b1f53648>"
      ]
     },
     "execution_count": 4,
     "metadata": {},
     "output_type": "execute_result"
    },
    {
     "data": {
      "image/png": "[encoded data removed]",
      "text/plain": [
       "<Figure size 432x288 with 2 Axes>"
      ]
     },
     "metadata": {
      "needs_background": "light"
     },
     "output_type": "display_data"
    }
   ],
   "source": [
    "X = np.arange(100).reshape((-1, 1))\n",
    "T = (X - 20) ** 3 / 300000\n",
    "\n",
    "hiddens = [10]\n",
    "nnet = NeuralNetwork(X.shape[1], hiddens, T.shape[1])\n",
    "nnet.train(X, T, 250, 0.01, method='adam')\n",
    "\n",
    "plt.subplot(1, 2, 1)\n",
    "plt.plot(nnet.error_trace)\n",
    "\n",
    "plt.subplot(1, 2, 2)\n",
    "plt.plot(T, label='T')\n",
    "plt.plot(nnet.use(X), label='Y')\n",
    "plt.legend()"
   ]
  },
  {
   "cell_type": "markdown",
   "metadata": {},
   "source": [
    "## Your `NeuralNetworkClassifier` class"
   ]
  },
  {
   "cell_type": "markdown",
   "metadata": {},
   "source": [
    "Complete the following definition of `NeuralNetworkClassifier` as discussed in class. You will need to override the functions\n",
    "\n",
    "* `train`\n",
    "* `error_f`\n",
    "* `gradient_f`\n",
    "* `use`\n",
    "\n",
    "and define the following new functions\n",
    "\n",
    "* `makeIndicatorVars`\n",
    "* `softmax`"
   ]
  },
  {
   "cell_type": "code",
   "execution_count": 5,
   "metadata": {},
   "outputs": [],
   "source": [
    "'''\n",
    "the constructor for this class should be found in NeuralNetwork\n",
    "use super to call parent constructor if youre adding member variables to childclass\n",
    "\n",
    "look at ex from notes of subclass for different act func\n",
    "different train, objective,gradient,use function\n",
    "easier to redefine whole train func here bc we dont want to unstandardize the targets and our origional train did\n",
    "if you pull ut pieces of train from nn class and pull out pieces that would be changed in this new class then you\n",
    "just have to override the pieces\n",
    "\n",
    "grad/error: labeling the classes: indicator variables - softmax output   vs orig target variables\n",
    "\n",
    "use must return two things, the class labels and the class probabilities\n",
    "\n",
    "train(self, X, makeIndicatorVars(T), error_f)\n",
    "power of e gives 0 or 1's which is likelihood\n",
    "softmax and argmax for predictions\n",
    "\n",
    "choosing btwn at 1:06:00 3/5\n",
    "LDA QDA or llr you would look at their accuracies averaged over all ways of partitioning data over valid set\n",
    "'''\n",
    "\n",
    "class NeuralNetworkClassifier(NeuralNetwork):\n",
    "    \n",
    "    def makeIndicatorVars(self, T):#making the matrix of indicator variable to identify classes\n",
    "        # Make sure T is two-dimensional. Should be nSamples x 1.\n",
    "        if T.ndim == 1:\n",
    "            T = T.reshape((-1, 1))    \n",
    "        return (T == np.unique(T)).astype(int)\n",
    "    \n",
    "   #forward pass\n",
    "    def softmax(self, Y):#recieves Y's of last layer. Post process step\n",
    "        fs = np.exp(Y)#fitting our model to a bunch of samples, our likelihood  \n",
    "        denom = np.sum(fs, axis=1).reshape((-1, 1))\n",
    "        gs = fs / denom\n",
    "        return gs\n",
    "    \n",
    "    def train(self, X, T, n_epochs, learning_rate, method='sgd', verbose=True):\n",
    "        # Setup standardization parameters\n",
    "        if self.Xmeans is None:\n",
    "            self.Xmeans = X.mean(axis=0)\n",
    "            self.Xstds = X.std(axis=0)\n",
    "            self.Xstds[self.Xstds == 0] = 1  # So we don't divide by zero when standardizing\n",
    "\n",
    "        # Standardize X and NOT T\n",
    "        X = (X - self.Xmeans) / self.Xstds\n",
    "        \n",
    "        self.classes=np.unique(T)\n",
    "        \n",
    "        T = self.makeIndicatorVars(T)\n",
    "\n",
    "        # Instantiate Optimizers object by giving it vector of all weights\n",
    "        optimizer = optimizers.Optimizers(self.all_weights)\n",
    "        #comes from error_f output\n",
    "        def error_convert_f(err):#want to convert this to likelihood neg_log_likelihood\n",
    "            return np.exp(-err)#negate to maximize likelihood   \n",
    "            \n",
    "        if method == 'sgd':\n",
    "\n",
    "            error_trace = optimizer.sgd(self.error_f, self.gradient_f,\n",
    "                                        fargs=[X, T], n_epochs=n_epochs,\n",
    "                                        learning_rate=learning_rate,\n",
    "                                        verbose=True,\n",
    "                                        error_convert_f=error_convert_f)\n",
    "\n",
    "        elif method == 'adam':\n",
    "            #fargs needs to be indicator variable T not the origional T\n",
    "            error_trace = optimizer.adam(self.error_f, self.gradient_f,\n",
    "                                         fargs=[X, T], n_epochs=n_epochs,\n",
    "                                         learning_rate=learning_rate,\n",
    "                                         verbose=True,\n",
    "                                         error_convert_f=error_convert_f)\n",
    "\n",
    "        else:\n",
    "            raise Exception(\"method must be 'sgd' or 'adam'\")\n",
    "        \n",
    "        self.error_trace = error_trace\n",
    "\n",
    "        # Return neural network object to allow applying other methods after training.\n",
    "        #  Example:    Y = nnet.train(X, T, 100, 0.01).use(X)\n",
    "        return self\n",
    "    \n",
    "        # Function to be minimized by optimizer method, mean squared error\n",
    "    def error_f(self, X, T):#neg log likelihood\n",
    "        Ys = self.forward_pass(X)\n",
    "        probs = self.softmax(Ys[-1]) #change made for NeuralNetworkClassifier\n",
    "        LL = T * np.log(probs + sys.float_info.epsilon) #change made for NeuralNetworkClassifier\n",
    "        neg_mean_LL = -np.mean(LL) #change made for NeuralNetworkClassifier\n",
    "        return neg_mean_LL #change made for NeuralNetworkClassifier\n",
    "    \n",
    "\n",
    "    # Gradient of function to be minimized for use by optimizer method\n",
    "    def gradient_f(self, X, T):#T should be indicat\n",
    "        '''Assumes forward_pass just called with layer outputs in self.Ys.'''\n",
    "        #derivative of the neg_log_likelihood\n",
    "        error = -(T - self.softmax(self.Ys[-1]))#modify this, we want the indicator variable - probabilities. call softmax on output layers outputs\n",
    "        #also negating the error because we want to maximize it probability. rest of back propagation is the same\n",
    "        #but just using a different error\n",
    "        n_samples = X.shape[0]\n",
    "        n_outputs = T.shape[1]\n",
    "        delta =  error / (n_samples * n_outputs)\n",
    "        #delta = (error) / (TtrainI.shape[0] * TtrainI.shape[1])\n",
    "        n_layers = len(self.n_hiddens_per_layer) + 1\n",
    "        # Step backwards through the layers to back-propagate the error (delta)\n",
    "        for layeri in range(n_layers - 1, -1, -1):\n",
    "            # gradient of all but bias weights\n",
    "            self.dE_dWs[layeri][1:, :] = self.Ys[layeri].T @ delta\n",
    "            # gradient of just the bias weights\n",
    "            self.dE_dWs[layeri][0:1, :] = np.sum(delta, 0)\n",
    "            # Back-propagate this layer's delta to previous layer\n",
    "            if self.activation_function == 'relu':\n",
    "                delta = delta @ self.Ws[layeri][1:, :].T * self.grad_relu(self.Ys[layeri])\n",
    "            else:\n",
    "                delta = delta @ self.Ws[layeri][1:, :].T * (1 - self.Ys[layeri] ** 2)\n",
    "        return self.all_gradients\n",
    "\n",
    "    \n",
    "    #return and array of predicted classes and the class probabilities\n",
    "    def use(self, X):\n",
    "        Xs = (X - self.Xmeans) / self.Xstds\n",
    "        Ys = self.forward_pass(Xs)\n",
    "        Y = Ys[-1]\n",
    "        probabilities = self.softmax(Y)#Apply softmax to the final layer after any call to forward_pass\n",
    "        \n",
    "        predictedClasses = self.classes[np.argmax(probabilities, axis=1)]\n",
    "        predictedClasses = predictedClasses.reshape((-1, 1))\n",
    "        \n",
    "        print (predictedClasses.shape)\n",
    "        print (probabilities.shape)\n",
    "        \n",
    "        return (predictedClasses, probabilities)\n",
    "    \n",
    "    \n",
    "\n",
    "           \n",
    "          \n"
   ]
  },
  {
   "cell_type": "markdown",
   "metadata": {},
   "source": [
    "confusion matrix at 03:00 3/31"
   ]
  },
  {
   "cell_type": "markdown",
   "metadata": {},
   "source": [
    "Here is a simple test of your new class.  For inputs from 0 to 100, classify values less than or equal to 25 as Class Label 25, greater than 25 and less than or equal to 75 as Class Label 75, and greater than 75 as Class Label 100. "
   ]
  },
  {
   "cell_type": "code",
   "execution_count": 6,
   "metadata": {},
   "outputs": [
    {
     "data": {
      "image/png": "[encoded data removed]",
      "text/plain": [
       "<Figure size 432x288 with 1 Axes>"
      ]
     },
     "metadata": {
      "needs_background": "light"
     },
     "output_type": "display_data"
    }
   ],
   "source": [
    "X = np.arange(100).reshape((-1, 1))\n",
    "T = X.copy()\n",
    "T[T <= 25] = 25\n",
    "T[np.logical_and(25 < T, T <= 75)] = 75\n",
    "T[T > 75] = 100\n",
    "\n",
    "plt.plot(X, T, 'o-')\n",
    "plt.xlabel('X')\n",
    "plt.ylabel('Class');"
   ]
  },
  {
   "cell_type": "code",
   "execution_count": 7,
   "metadata": {},
   "outputs": [
    {
     "name": "stdout",
     "output_type": "stream",
     "text": [
      "Adam: Epoch 20 Error=0.79278\n",
      "Adam: Epoch 40 Error=0.86506\n",
      "Adam: Epoch 60 Error=0.90945\n",
      "Adam: Epoch 80 Error=0.93503\n",
      "Adam: Epoch 100 Error=0.95004\n",
      "Adam: Epoch 120 Error=0.95902\n",
      "Adam: Epoch 140 Error=0.96487\n",
      "Adam: Epoch 160 Error=0.96902\n",
      "Adam: Epoch 180 Error=0.97214\n",
      "Adam: Epoch 200 Error=0.97459\n",
      "(100, 1)\n",
      "(100, 3)\n"
     ]
    },
    {
     "data": {
      "text/plain": [
       "<matplotlib.legend.Legend at 0x201b20b2788>"
      ]
     },
     "execution_count": 7,
     "metadata": {},
     "output_type": "execute_result"
    },
    {
     "data": {
      "image/png": "[encoded data removed]",
      "text/plain": [
       "<Figure size 432x288 with 2 Axes>"
      ]
     },
     "metadata": {
      "needs_background": "light"
     },
     "output_type": "display_data"
    }
   ],
   "source": [
    "'''\n",
    "we want to maximize the probability of the data, max likleyhood is 1-correct exactly fitting the training data\n",
    "and the correct class is being produced for every sample\n",
    "'''\n",
    "hiddens = [10]\n",
    "nnet = NeuralNetworkClassifier(X.shape[1], hiddens, len(np.unique(T)))\n",
    "nnet.train(X, T, 200, 0.01, method='adam', verbose=True)\n",
    "\n",
    "plt.subplot(1, 2, 1)\n",
    "plt.plot(nnet.error_trace)\n",
    "plt.xlabel('Epoch')\n",
    "plt.ylabel('Likelihood')\n",
    "\n",
    "plt.subplot(1, 2, 2)\n",
    "plt.plot(T + 5, 'o-', label='T + 5')  # to see, when predicted overlap T very closely\n",
    "plt.plot(nnet.use(X)[0], 'o-', label='Y')\n",
    "plt.legend()"
   ]
  },
  {
   "cell_type": "markdown",
   "metadata": {},
   "source": [
    "## Now for the Hand-Draw Digits\n",
    "\n",
    "We will use a bunch (50,000) images of hand drawn digits from [this deeplearning.net site](http://deeplearning.net/tutorial/gettingstarted.html).  Download `mnist.pkl.gz`. \n",
    "\n",
    "This pickle file includes data already partitioned into training, validation, and test sets.  To read it into python, use the following steps"
   ]
  },
  {
   "cell_type": "code",
   "execution_count": 8,
   "metadata": {},
   "outputs": [
    {
     "name": "stdout",
     "output_type": "stream",
     "text": [
      "(50000, 784) (50000, 1) (10000, 784) (10000, 1) (10000, 784) (10000, 1)\n"
     ]
    }
   ],
   "source": [
    "'''\n",
    "notes from 3/10 at 35:00\n",
    "\n",
    "before just took a sqrt of the rmse to get error in origional units, now negate error \n",
    "and raise to power of e to get the actual likelihood instead of nnl\n",
    "'''\n",
    "\n",
    "\n",
    "import pickle\n",
    "import gzip\n",
    "\n",
    "with gzip.open('mnist.pkl.gz', 'rb') as f:\n",
    "    train_set, valid_set, test_set = pickle.load(f, encoding='latin1')\n",
    "\n",
    "Xtrain = train_set[0]#input images\n",
    "Ttrain = train_set[1].reshape(-1, 1)#classes\n",
    "\n",
    "Xval = valid_set[0]\n",
    "Tval = valid_set[1].reshape(-1, 1)\n",
    "\n",
    "Xtest = test_set[0]\n",
    "Ttest = test_set[1].reshape(-1, 1)\n",
    "\n",
    "print(Xtrain.shape, Ttrain.shape,  Xval.shape, Tval.shape,  Xtest.shape, Ttest.shape)"
   ]
  },
  {
   "cell_type": "code",
   "execution_count": 9,
   "metadata": {},
   "outputs": [
    {
     "data": {
      "text/plain": [
       "array([[5],\n",
       "       [0],\n",
       "       [4],\n",
       "       [1],\n",
       "       [9],\n",
       "       [2],\n",
       "       [1],\n",
       "       [3],\n",
       "       [1],\n",
       "       [4]], dtype=int64)"
      ]
     },
     "execution_count": 9,
     "metadata": {},
     "output_type": "execute_result"
    }
   ],
   "source": [
    "Ttrain[:10]"
   ]
  },
  {
   "cell_type": "markdown",
   "metadata": {},
   "source": [
    "Those must be the digits.  What the heck is in those 784 columns in the input matrices?"
   ]
  },
  {
   "cell_type": "code",
   "execution_count": 10,
   "metadata": {},
   "outputs": [
    {
     "data": {
      "image/png": "[encoded data removed]",
      "text/plain": [
       "<Figure size 432x288 with 1 Axes>"
      ]
     },
     "metadata": {
      "needs_background": "light"
     },
     "output_type": "display_data"
    }
   ],
   "source": [
    "plt.plot(Xtrain[0, :]);#plot of first sample"
   ]
  },
  {
   "cell_type": "markdown",
   "metadata": {},
   "source": [
    "Well, values between 0 and 1.  That doesn't help much.  These are actually intensity values for 784 pixels in an image.\n",
    "\n",
    "How can we rearrange these values into an image to be displayed?  We must first figure out how many columns and rows the image would have.  Perhaps the image is a square image, with equal numbers of rows and columns."
   ]
  },
  {
   "cell_type": "code",
   "execution_count": 11,
   "metadata": {},
   "outputs": [
    {
     "data": {
      "text/plain": [
       "28.0"
      ]
     },
     "execution_count": 11,
     "metadata": {},
     "output_type": "execute_result"
    }
   ],
   "source": [
    "import math\n",
    "math.sqrt(784)"
   ]
  },
  {
   "cell_type": "markdown",
   "metadata": {},
   "source": [
    "Ah, cool."
   ]
  },
  {
   "cell_type": "code",
   "execution_count": 12,
   "metadata": {},
   "outputs": [
    {
     "data": {
      "text/plain": [
       "784"
      ]
     },
     "execution_count": 12,
     "metadata": {},
     "output_type": "execute_result"
    }
   ],
   "source": [
    "28 * 28"
   ]
  },
  {
   "cell_type": "markdown",
   "metadata": {},
   "source": [
    "Ok Let's reshape it and look at the numbers."
   ]
  },
  {
   "cell_type": "code",
   "execution_count": 13,
   "metadata": {},
   "outputs": [
    {
     "data": {
      "text/plain": [
       "array([[0.        , 0.        , 0.        , 0.        , 0.        ,\n",
       "        0.        , 0.        , 0.        , 0.        , 0.        ,\n",
       "        0.        , 0.        , 0.        , 0.        , 0.        ,\n",
       "        0.        , 0.        , 0.        , 0.        , 0.        ,\n",
       "        0.        , 0.        , 0.        , 0.        , 0.        ,\n",
       "        0.        , 0.        , 0.        ],\n",
       "       [0.        , 0.        , 0.        , 0.        , 0.        ,\n",
       "        0.        , 0.        , 0.        , 0.        , 0.        ,\n",
       "        0.        , 0.        , 0.        , 0.        , 0.        ,\n",
       "        0.        , 0.        , 0.        , 0.        , 0.        ,\n",
       "        0.        , 0.        , 0.        , 0.        , 0.        ,\n",
       "        0.        , 0.        , 0.        ],\n",
       "       [0.        , 0.        , 0.        , 0.        , 0.        ,\n",
       "        0.        , 0.        , 0.        , 0.        , 0.        ,\n",
       "        0.        , 0.        , 0.        , 0.        , 0.        ,\n",
       "        0.        , 0.        , 0.        , 0.        , 0.        ,\n",
       "        0.        , 0.        , 0.        , 0.        , 0.        ,\n",
       "        0.        , 0.        , 0.        ],\n",
       "       [0.        , 0.        , 0.        , 0.        , 0.        ,\n",
       "        0.        , 0.        , 0.        , 0.        , 0.        ,\n",
       "        0.        , 0.        , 0.        , 0.        , 0.        ,\n",
       "        0.        , 0.        , 0.        , 0.        , 0.        ,\n",
       "        0.        , 0.        , 0.        , 0.        , 0.        ,\n",
       "        0.        , 0.        , 0.        ],\n",
       "       [0.        , 0.        , 0.        , 0.        , 0.        ,\n",
       "        0.        , 0.        , 0.        , 0.        , 0.        ,\n",
       "        0.        , 0.        , 0.        , 0.        , 0.        ,\n",
       "        0.        , 0.        , 0.        , 0.        , 0.        ,\n",
       "        0.        , 0.        , 0.        , 0.        , 0.        ,\n",
       "        0.        , 0.        , 0.        ],\n",
       "       [0.        , 0.        , 0.        , 0.        , 0.        ,\n",
       "        0.        , 0.        , 0.        , 0.        , 0.        ,\n",
       "        0.        , 0.        , 0.01171875, 0.0703125 , 0.0703125 ,\n",
       "        0.0703125 , 0.4921875 , 0.53125   , 0.68359375, 0.1015625 ,\n",
       "        0.6484375 , 0.99609375, 0.96484375, 0.49609375, 0.        ,\n",
       "        0.        , 0.        , 0.        ],\n",
       "       [0.        , 0.        , 0.        , 0.        , 0.        ,\n",
       "        0.        , 0.        , 0.        , 0.1171875 , 0.140625  ,\n",
       "        0.3671875 , 0.6015625 , 0.6640625 , 0.98828125, 0.98828125,\n",
       "        0.98828125, 0.98828125, 0.98828125, 0.87890625, 0.671875  ,\n",
       "        0.98828125, 0.9453125 , 0.76171875, 0.25      , 0.        ,\n",
       "        0.        , 0.        , 0.        ],\n",
       "       [0.        , 0.        , 0.        , 0.        , 0.        ,\n",
       "        0.        , 0.        , 0.19140625, 0.9296875 , 0.98828125,\n",
       "        0.98828125, 0.98828125, 0.98828125, 0.98828125, 0.98828125,\n",
       "        0.98828125, 0.98828125, 0.98046875, 0.36328125, 0.3203125 ,\n",
       "        0.3203125 , 0.21875   , 0.15234375, 0.        , 0.        ,\n",
       "        0.        , 0.        , 0.        ],\n",
       "       [0.        , 0.        , 0.        , 0.        , 0.        ,\n",
       "        0.        , 0.        , 0.0703125 , 0.85546875, 0.98828125,\n",
       "        0.98828125, 0.98828125, 0.98828125, 0.98828125, 0.7734375 ,\n",
       "        0.7109375 , 0.96484375, 0.94140625, 0.        , 0.        ,\n",
       "        0.        , 0.        , 0.        , 0.        , 0.        ,\n",
       "        0.        , 0.        , 0.        ],\n",
       "       [0.        , 0.        , 0.        , 0.        , 0.        ,\n",
       "        0.        , 0.        , 0.        , 0.3125    , 0.609375  ,\n",
       "        0.41796875, 0.98828125, 0.98828125, 0.80078125, 0.04296875,\n",
       "        0.        , 0.16796875, 0.6015625 , 0.        , 0.        ,\n",
       "        0.        , 0.        , 0.        , 0.        , 0.        ,\n",
       "        0.        , 0.        , 0.        ],\n",
       "       [0.        , 0.        , 0.        , 0.        , 0.        ,\n",
       "        0.        , 0.        , 0.        , 0.        , 0.0546875 ,\n",
       "        0.00390625, 0.6015625 , 0.98828125, 0.3515625 , 0.        ,\n",
       "        0.        , 0.        , 0.        , 0.        , 0.        ,\n",
       "        0.        , 0.        , 0.        , 0.        , 0.        ,\n",
       "        0.        , 0.        , 0.        ],\n",
       "       [0.        , 0.        , 0.        , 0.        , 0.        ,\n",
       "        0.        , 0.        , 0.        , 0.        , 0.        ,\n",
       "        0.        , 0.54296875, 0.98828125, 0.7421875 , 0.0078125 ,\n",
       "        0.        , 0.        , 0.        , 0.        , 0.        ,\n",
       "        0.        , 0.        , 0.        , 0.        , 0.        ,\n",
       "        0.        , 0.        , 0.        ],\n",
       "       [0.        , 0.        , 0.        , 0.        , 0.        ,\n",
       "        0.        , 0.        , 0.        , 0.        , 0.        ,\n",
       "        0.        , 0.04296875, 0.7421875 , 0.98828125, 0.2734375 ,\n",
       "        0.        , 0.        , 0.        , 0.        , 0.        ,\n",
       "        0.        , 0.        , 0.        , 0.        , 0.        ,\n",
       "        0.        , 0.        , 0.        ],\n",
       "       [0.        , 0.        , 0.        , 0.        , 0.        ,\n",
       "        0.        , 0.        , 0.        , 0.        , 0.        ,\n",
       "        0.        , 0.        , 0.13671875, 0.94140625, 0.87890625,\n",
       "        0.625     , 0.421875  , 0.00390625, 0.        , 0.        ,\n",
       "        0.        , 0.        , 0.        , 0.        , 0.        ,\n",
       "        0.        , 0.        , 0.        ],\n",
       "       [0.        , 0.        , 0.        , 0.        , 0.        ,\n",
       "        0.        , 0.        , 0.        , 0.        , 0.        ,\n",
       "        0.        , 0.        , 0.        , 0.31640625, 0.9375    ,\n",
       "        0.98828125, 0.98828125, 0.46484375, 0.09765625, 0.        ,\n",
       "        0.        , 0.        , 0.        , 0.        , 0.        ,\n",
       "        0.        , 0.        , 0.        ],\n",
       "       [0.        , 0.        , 0.        , 0.        , 0.        ,\n",
       "        0.        , 0.        , 0.        , 0.        , 0.        ,\n",
       "        0.        , 0.        , 0.        , 0.        , 0.17578125,\n",
       "        0.7265625 , 0.98828125, 0.98828125, 0.5859375 , 0.10546875,\n",
       "        0.        , 0.        , 0.        , 0.        , 0.        ,\n",
       "        0.        , 0.        , 0.        ],\n",
       "       [0.        , 0.        , 0.        , 0.        , 0.        ,\n",
       "        0.        , 0.        , 0.        , 0.        , 0.        ,\n",
       "        0.        , 0.        , 0.        , 0.        , 0.        ,\n",
       "        0.0625    , 0.36328125, 0.984375  , 0.98828125, 0.73046875,\n",
       "        0.        , 0.        , 0.        , 0.        , 0.        ,\n",
       "        0.        , 0.        , 0.        ],\n",
       "       [0.        , 0.        , 0.        , 0.        , 0.        ,\n",
       "        0.        , 0.        , 0.        , 0.        , 0.        ,\n",
       "        0.        , 0.        , 0.        , 0.        , 0.        ,\n",
       "        0.        , 0.        , 0.97265625, 0.98828125, 0.97265625,\n",
       "        0.25      , 0.        , 0.        , 0.        , 0.        ,\n",
       "        0.        , 0.        , 0.        ],\n",
       "       [0.        , 0.        , 0.        , 0.        , 0.        ,\n",
       "        0.        , 0.        , 0.        , 0.        , 0.        ,\n",
       "        0.        , 0.        , 0.        , 0.        , 0.1796875 ,\n",
       "        0.5078125 , 0.71484375, 0.98828125, 0.98828125, 0.80859375,\n",
       "        0.0078125 , 0.        , 0.        , 0.        , 0.        ,\n",
       "        0.        , 0.        , 0.        ],\n",
       "       [0.        , 0.        , 0.        , 0.        , 0.        ,\n",
       "        0.        , 0.        , 0.        , 0.        , 0.        ,\n",
       "        0.        , 0.        , 0.15234375, 0.578125  , 0.89453125,\n",
       "        0.98828125, 0.98828125, 0.98828125, 0.9765625 , 0.7109375 ,\n",
       "        0.        , 0.        , 0.        , 0.        , 0.        ,\n",
       "        0.        , 0.        , 0.        ],\n",
       "       [0.        , 0.        , 0.        , 0.        , 0.        ,\n",
       "        0.        , 0.        , 0.        , 0.        , 0.        ,\n",
       "        0.09375   , 0.4453125 , 0.86328125, 0.98828125, 0.98828125,\n",
       "        0.98828125, 0.98828125, 0.78515625, 0.3046875 , 0.        ,\n",
       "        0.        , 0.        , 0.        , 0.        , 0.        ,\n",
       "        0.        , 0.        , 0.        ],\n",
       "       [0.        , 0.        , 0.        , 0.        , 0.        ,\n",
       "        0.        , 0.        , 0.        , 0.08984375, 0.2578125 ,\n",
       "        0.83203125, 0.98828125, 0.98828125, 0.98828125, 0.98828125,\n",
       "        0.7734375 , 0.31640625, 0.0078125 , 0.        , 0.        ,\n",
       "        0.        , 0.        , 0.        , 0.        , 0.        ,\n",
       "        0.        , 0.        , 0.        ],\n",
       "       [0.        , 0.        , 0.        , 0.        , 0.        ,\n",
       "        0.        , 0.0703125 , 0.66796875, 0.85546875, 0.98828125,\n",
       "        0.98828125, 0.98828125, 0.98828125, 0.76171875, 0.3125    ,\n",
       "        0.03515625, 0.        , 0.        , 0.        , 0.        ,\n",
       "        0.        , 0.        , 0.        , 0.        , 0.        ,\n",
       "        0.        , 0.        , 0.        ],\n",
       "       [0.        , 0.        , 0.        , 0.        , 0.21484375,\n",
       "        0.671875  , 0.8828125 , 0.98828125, 0.98828125, 0.98828125,\n",
       "        0.98828125, 0.953125  , 0.51953125, 0.04296875, 0.        ,\n",
       "        0.        , 0.        , 0.        , 0.        , 0.        ,\n",
       "        0.        , 0.        , 0.        , 0.        , 0.        ,\n",
       "        0.        , 0.        , 0.        ],\n",
       "       [0.        , 0.        , 0.        , 0.        , 0.53125   ,\n",
       "        0.98828125, 0.98828125, 0.98828125, 0.828125  , 0.52734375,\n",
       "        0.515625  , 0.0625    , 0.        , 0.        , 0.        ,\n",
       "        0.        , 0.        , 0.        , 0.        , 0.        ,\n",
       "        0.        , 0.        , 0.        , 0.        , 0.        ,\n",
       "        0.        , 0.        , 0.        ],\n",
       "       [0.        , 0.        , 0.        , 0.        , 0.        ,\n",
       "        0.        , 0.        , 0.        , 0.        , 0.        ,\n",
       "        0.        , 0.        , 0.        , 0.        , 0.        ,\n",
       "        0.        , 0.        , 0.        , 0.        , 0.        ,\n",
       "        0.        , 0.        , 0.        , 0.        , 0.        ,\n",
       "        0.        , 0.        , 0.        ],\n",
       "       [0.        , 0.        , 0.        , 0.        , 0.        ,\n",
       "        0.        , 0.        , 0.        , 0.        , 0.        ,\n",
       "        0.        , 0.        , 0.        , 0.        , 0.        ,\n",
       "        0.        , 0.        , 0.        , 0.        , 0.        ,\n",
       "        0.        , 0.        , 0.        , 0.        , 0.        ,\n",
       "        0.        , 0.        , 0.        ],\n",
       "       [0.        , 0.        , 0.        , 0.        , 0.        ,\n",
       "        0.        , 0.        , 0.        , 0.        , 0.        ,\n",
       "        0.        , 0.        , 0.        , 0.        , 0.        ,\n",
       "        0.        , 0.        , 0.        , 0.        , 0.        ,\n",
       "        0.        , 0.        , 0.        , 0.        , 0.        ,\n",
       "        0.        , 0.        , 0.        ]], dtype=float32)"
      ]
     },
     "execution_count": 13,
     "metadata": {},
     "output_type": "execute_result"
    }
   ],
   "source": [
    "image0 = Xtrain[0, :]\n",
    "image0 = image0.reshape(28, 28)\n",
    "image0"
   ]
  },
  {
   "cell_type": "markdown",
   "metadata": {},
   "source": [
    "Not that helpful.  Ok, let's use `matplotlib` to make an image display."
   ]
  },
  {
   "cell_type": "code",
   "execution_count": 14,
   "metadata": {},
   "outputs": [
    {
     "data": {
      "image/png": "[encoded data removed]",
      "text/plain": [
       "<Figure size 432x288 with 1 Axes>"
      ]
     },
     "metadata": {
      "needs_background": "light"
     },
     "output_type": "display_data"
    }
   ],
   "source": [
    "plt.imshow(image0);"
   ]
  },
  {
   "cell_type": "markdown",
   "metadata": {},
   "source": [
    "Humm.  Try a grayscale color map."
   ]
  },
  {
   "cell_type": "code",
   "execution_count": 15,
   "metadata": {},
   "outputs": [
    {
     "data": {
      "image/png": "[encoded data removed]",
      "text/plain": [
       "<Figure size 432x288 with 1 Axes>"
      ]
     },
     "metadata": {
      "needs_background": "light"
     },
     "output_type": "display_data"
    }
   ],
   "source": [
    "plt.imshow(image0, cmap='gray');"
   ]
  },
  {
   "cell_type": "markdown",
   "metadata": {},
   "source": [
    "With a little more work, we can make it look like a pencil drawing."
   ]
  },
  {
   "cell_type": "code",
   "execution_count": 16,
   "metadata": {},
   "outputs": [
    {
     "data": {
      "image/png": "[encoded data removed]",
      "text/plain": [
       "<Figure size 432x288 with 1 Axes>"
      ]
     },
     "metadata": {
      "needs_background": "light"
     },
     "output_type": "display_data"
    }
   ],
   "source": [
    "plt.imshow(-image0, cmap='gray')  # notice the negative sign\n",
    "plt.axis('off');"
   ]
  },
  {
   "cell_type": "markdown",
   "metadata": {},
   "source": [
    "Looks like a 5.  What class label is associated with this image?"
   ]
  },
  {
   "cell_type": "code",
   "execution_count": 17,
   "metadata": {},
   "outputs": [
    {
     "data": {
      "text/plain": [
       "array([5], dtype=int64)"
      ]
     },
     "execution_count": 17,
     "metadata": {},
     "output_type": "execute_result"
    }
   ],
   "source": [
    "Ttrain[0]"
   ]
  },
  {
   "cell_type": "markdown",
   "metadata": {},
   "source": [
    "Okay.  Makes sense.  Let's look at the first 100 images and their labels, as plot titles."
   ]
  },
  {
   "cell_type": "code",
   "execution_count": 18,
   "metadata": {},
   "outputs": [
    {
     "data": {
      "image/png": "[encoded data removed]",
      "text/plain": [
       "<Figure size 1440x1440 with 100 Axes>"
      ]
     },
     "metadata": {
      "needs_background": "light"
     },
     "output_type": "display_data"
    }
   ],
   "source": [
    "plt.figure(figsize=(20, 20))\n",
    "for i in range(100):#first 100 sams\n",
    "    plt.subplot(10, 10, i + 1)#draw the image in the ith row\n",
    "    plt.imshow(-Xtrain[i, :].reshape(28, 28), cmap='gray')#reshape and negate it\n",
    "    plt.title(Ttrain[i, 0])#make title of each image be the target label the digit\n",
    "    plt.axis('off');"
   ]
  },
  {
   "cell_type": "markdown",
   "metadata": {},
   "source": [
    "Okay.  We are ready to try to classify, right?\n",
    "\n",
    "First we should check the proportions of each digit in the given data partitions."
   ]
  },
  {
   "cell_type": "code",
   "execution_count": 19,
   "metadata": {},
   "outputs": [
    {
     "data": {
      "text/plain": [
       "(50000, 10)"
      ]
     },
     "execution_count": 19,
     "metadata": {},
     "output_type": "execute_result"
    }
   ],
   "source": [
    "classes = np.arange(10)\n",
    "(Ttrain == classes).shape\n",
    "#10 values for each sample. Train has to be a 2d for it to work"
   ]
  },
  {
   "cell_type": "code",
   "execution_count": 20,
   "metadata": {},
   "outputs": [
    {
     "data": {
      "text/plain": [
       "array([4932, 5678, 4968, 5101, 4859, 4506, 4951, 5175, 4842, 4988])"
      ]
     },
     "execution_count": 20,
     "metadata": {},
     "output_type": "execute_result"
    }
   ],
   "source": [
    "(Ttrain == classes).sum(axis=0)#sum accross rows, will find out many values in t train equal each closs"
   ]
  },
  {
   "cell_type": "code",
   "execution_count": 21,
   "metadata": {},
   "outputs": [
    {
     "data": {
      "text/plain": [
       "array([0.09864, 0.11356, 0.09936, 0.10202, 0.09718, 0.09012, 0.09902,\n",
       "       0.1035 , 0.09684, 0.09976])"
      ]
     },
     "execution_count": 21,
     "metadata": {},
     "output_type": "execute_result"
    }
   ],
   "source": [
    "(Ttrain == classes).sum(axis=0) / Ttrain.shape[0] #will find out many values in t train equal each closs"
   ]
  },
  {
   "cell_type": "code",
   "execution_count": 22,
   "metadata": {},
   "outputs": [
    {
     "data": {
      "text/plain": [
       "['Ttrain',\n",
       " 0.09864,\n",
       " 0.11356,\n",
       " 0.09936,\n",
       " 0.10202,\n",
       " 0.09718,\n",
       " 0.09012,\n",
       " 0.09902,\n",
       " 0.1035,\n",
       " 0.09684,\n",
       " 0.09976]"
      ]
     },
     "execution_count": 22,
     "metadata": {},
     "output_type": "execute_result"
    }
   ],
   "source": [
    "['Ttrain', *(Ttrain == classes).sum(axis=0) / Ttrain.shape[0]]"
   ]
  },
  {
   "cell_type": "code",
   "execution_count": 23,
   "metadata": {},
   "outputs": [
    {
     "data": {
      "text/html": [
       "<div>\n",
       "<style scoped>\n",
       "    .dataframe tbody tr th:only-of-type {\n",
       "        vertical-align: middle;\n",
       "    }\n",
       "\n",
       "    .dataframe tbody tr th {\n",
       "        vertical-align: top;\n",
       "    }\n",
       "\n",
       "    .dataframe thead th {\n",
       "        text-align: right;\n",
       "    }\n",
       "</style>\n",
       "<table border=\"1\" class=\"dataframe\">\n",
       "  <thead>\n",
       "    <tr style=\"text-align: right;\">\n",
       "      <th></th>\n",
       "      <th>0</th>\n",
       "      <th>1</th>\n",
       "      <th>2</th>\n",
       "      <th>3</th>\n",
       "      <th>4</th>\n",
       "      <th>5</th>\n",
       "      <th>6</th>\n",
       "      <th>7</th>\n",
       "      <th>8</th>\n",
       "      <th>9</th>\n",
       "      <th>10</th>\n",
       "    </tr>\n",
       "  </thead>\n",
       "  <tbody>\n",
       "    <tr>\n",
       "      <td>0</td>\n",
       "      <td>Train</td>\n",
       "      <td>0.09864</td>\n",
       "      <td>0.11356</td>\n",
       "      <td>0.09936</td>\n",
       "      <td>0.10202</td>\n",
       "      <td>0.09718</td>\n",
       "      <td>0.09012</td>\n",
       "      <td>0.09902</td>\n",
       "      <td>0.1035</td>\n",
       "      <td>0.09684</td>\n",
       "      <td>0.09976</td>\n",
       "    </tr>\n",
       "    <tr>\n",
       "      <td>1</td>\n",
       "      <td>Tval</td>\n",
       "      <td>0.09910</td>\n",
       "      <td>0.10640</td>\n",
       "      <td>0.09900</td>\n",
       "      <td>0.10300</td>\n",
       "      <td>0.09830</td>\n",
       "      <td>0.09150</td>\n",
       "      <td>0.09670</td>\n",
       "      <td>0.1090</td>\n",
       "      <td>0.10090</td>\n",
       "      <td>0.09610</td>\n",
       "    </tr>\n",
       "    <tr>\n",
       "      <td>2</td>\n",
       "      <td>Ttest</td>\n",
       "      <td>0.09800</td>\n",
       "      <td>0.11350</td>\n",
       "      <td>0.10320</td>\n",
       "      <td>0.10100</td>\n",
       "      <td>0.09820</td>\n",
       "      <td>0.08920</td>\n",
       "      <td>0.09580</td>\n",
       "      <td>0.1028</td>\n",
       "      <td>0.09740</td>\n",
       "      <td>0.10090</td>\n",
       "    </tr>\n",
       "  </tbody>\n",
       "</table>\n",
       "</div>"
      ],
      "text/plain": [
       "       0        1        2        3        4        5        6        7  \\\n",
       "0  Train  0.09864  0.11356  0.09936  0.10202  0.09718  0.09012  0.09902   \n",
       "1   Tval  0.09910  0.10640  0.09900  0.10300  0.09830  0.09150  0.09670   \n",
       "2  Ttest  0.09800  0.11350  0.10320  0.10100  0.09820  0.08920  0.09580   \n",
       "\n",
       "        8        9       10  \n",
       "0  0.1035  0.09684  0.09976  \n",
       "1  0.1090  0.10090  0.09610  \n",
       "2  0.1028  0.09740  0.10090  "
      ]
     },
     "execution_count": 23,
     "metadata": {},
     "output_type": "execute_result"
    }
   ],
   "source": [
    "import pandas\n",
    "\n",
    "result = []\n",
    "result.append(['Train', *(Ttrain == classes).sum(axis=0) / Ttrain.shape[0]])\n",
    "result.append(['Tval', *(Tval == classes).sum(axis=0) / Tval.shape[0]])\n",
    "result.append(['Ttest', *(Ttest == classes).sum(axis=0) / Ttest.shape[0]])\n",
    "pandas.DataFrame(result)"
   ]
  },
  {
   "cell_type": "markdown",
   "metadata": {},
   "source": [
    "All very close to 0.1. Super."
   ]
  },
  {
   "cell_type": "markdown",
   "metadata": {},
   "source": [
    "Time for our first experiment.  Let's train a small neural net with 5 hidden units in one layer for a small number of epochs using Adam."
   ]
  },
  {
   "cell_type": "code",
   "execution_count": 24,
   "metadata": {},
   "outputs": [],
   "source": [
    "#from NeuralNetworks import *"
   ]
  },
  {
   "cell_type": "code",
   "execution_count": 25,
   "metadata": {},
   "outputs": [
    {
     "name": "stdout",
     "output_type": "stream",
     "text": [
      "Adam: Epoch 10 Error=0.82887\n",
      "Adam: Epoch 20 Error=0.85170\n",
      "Adam: Epoch 30 Error=0.87229\n",
      "Adam: Epoch 40 Error=0.88913\n",
      "Adam: Epoch 50 Error=0.90202\n",
      "Adam: Epoch 60 Error=0.91179\n",
      "Adam: Epoch 70 Error=0.91932\n",
      "Adam: Epoch 80 Error=0.92541\n",
      "Adam: Epoch 90 Error=0.93041\n",
      "Adam: Epoch 100 Error=0.93447\n"
     ]
    },
    {
     "data": {
      "text/plain": [
       "NeuralNetworkClassifier(784, [5], 10, 'tanh')"
      ]
     },
     "execution_count": 25,
     "metadata": {},
     "output_type": "execute_result"
    }
   ],
   "source": [
    "n_epochs = 100\n",
    "learning_rate = 0.01\n",
    "\n",
    "np.random.seed(142)\n",
    "\n",
    "nnet = NeuralNetworkClassifier(Xtrain.shape[1], [5], len(classes))\n",
    "nnet.train(Xtrain, Ttrain, n_epochs, learning_rate, method='adam', verbose=True)"
   ]
  },
  {
   "cell_type": "markdown",
   "metadata": {},
   "source": [
    "'''\n",
    "if you had this neuralnetwork how would you determine how accurate it was\n",
    "can make confusion matrix\n",
    "import pandas\n",
    "class_names = range(10)\n",
    "Classes, Probs = nnet.use(Xtest)\n",
    "table = []\n",
    "for true_class in range(10):\n",
    "    row = []\n",
    "    for predicted_class in range(10):\n",
    "        row.append(100 * np.mean(Classes[Ttest == true_class] == predicted_class))\n",
    "        # row.append(f'{100 * np.mean(Classes[Ttrain == true_class] == predicted_class):0.1f}')\n",
    "    table.append(row)\n",
    "    \n",
    "print(f'Test percent correct {np.mean(Classes == Ttest) * 100:.2f}') \n",
    "\n",
    "conf_matrix = pandas.DataFrame(table, index=class_names, columns=class_names)\n",
    "conf_matrix.style.background_gradient(cmap='Blues').format(\"{:.1f} %\")\n",
    "\n",
    "82.95\n",
    "3/12 at 1:14:00\n",
    "'''"
   ]
  },
  {
   "cell_type": "code",
   "execution_count": 26,
   "metadata": {},
   "outputs": [
    {
     "name": "stdout",
     "output_type": "stream",
     "text": [
      "NeuralNetworkClassifier(784, [5], 10, 'tanh') trained for 100 epochs, final training error 0.9345\n"
     ]
    }
   ],
   "source": [
    "print(nnet)  # uses the __str__ method"
   ]
  },
  {
   "cell_type": "code",
   "execution_count": 27,
   "metadata": {},
   "outputs": [
    {
     "data": {
      "image/png": "[encoded data removed]",
      "text/plain": [
       "<Figure size 432x288 with 1 Axes>"
      ]
     },
     "metadata": {
      "needs_background": "light"
     },
     "output_type": "display_data"
    }
   ],
   "source": [
    "plt.plot(nnet.error_trace);"
   ]
  },
  {
   "cell_type": "markdown",
   "metadata": {},
   "source": [
    "Now it is time for you to run some longer experiments.  You must write the code to do the following steps:\n",
    "\n",
    "try to find values it does poorly on and see if it makes sense\n",
    "\n",
    "1. For each of at least five different hidden layer structures\n",
    "\n",
    "    1. Train a network for 500 epochs.\n",
    "    1. Collect percent of samples correctly classified in the given train, validate, and test partitions.\n",
    "\n",
    "2. Create a `pandas.DataFrame` with these results and with column headings `('Hidden Layers', 'Train', 'Validate', 'Test', 'Time')` where `'Time'` is the number of seconds required to train each network.\n",
    "\n",
    "3. Retrain a network using the best hidden layer structure, judged by the percent correct on the validation set.\n",
    "4. Use this network to find several images in the test set for which the network's probability of the correct class is the closest to zero, meaning images for which your network does the worst.  Draw these images and discuss why your network might not be doing well for those images."
   ]
  },
  {
   "cell_type": "code",
   "execution_count": 28,
   "metadata": {},
   "outputs": [
    {
     "name": "stdout",
     "output_type": "stream",
     "text": [
      "Adam: Epoch 5 Error=0.94650\n",
      "Adam: Epoch 10 Error=0.95892\n",
      "Adam: Epoch 15 Error=0.96255\n",
      "Adam: Epoch 20 Error=0.96536\n",
      "Adam: Epoch 25 Error=0.96746\n",
      "Adam: Epoch 30 Error=0.96914\n",
      "Adam: Epoch 35 Error=0.97047\n",
      "Adam: Epoch 40 Error=0.97160\n",
      "Adam: Epoch 45 Error=0.97253\n",
      "Adam: Epoch 50 Error=0.97328\n",
      "(50000, 1)\n",
      "(50000, 10)\n",
      "Train Percent correct 92.54\n",
      "Adam: Epoch 5 Error=0.97762\n",
      "Adam: Epoch 10 Error=0.98209\n",
      "Adam: Epoch 15 Error=0.98483\n",
      "Adam: Epoch 20 Error=0.98651\n",
      "Adam: Epoch 25 Error=0.98779\n",
      "Adam: Epoch 30 Error=0.98884\n",
      "Adam: Epoch 35 Error=0.98970\n",
      "Adam: Epoch 40 Error=0.99042\n",
      "Adam: Epoch 45 Error=0.99104\n",
      "Adam: Epoch 50 Error=0.99158\n",
      "(10000, 1)\n",
      "(10000, 10)\n",
      "Adam: Epoch 5 Error=0.96487\n",
      "Adam: Epoch 10 Error=0.97459\n",
      "Adam: Epoch 15 Error=0.97960\n",
      "Adam: Epoch 20 Error=0.98303\n",
      "Adam: Epoch 25 Error=0.98602\n",
      "Adam: Epoch 30 Error=0.98781\n",
      "Adam: Epoch 35 Error=0.98933\n",
      "Adam: Epoch 40 Error=0.99042\n",
      "Adam: Epoch 45 Error=0.99124\n",
      "Adam: Epoch 50 Error=0.99190\n",
      "(10000, 1)\n",
      "(10000, 10)\n",
      "Adam: Epoch 5 Error=0.81574\n",
      "Adam: Epoch 10 Error=0.82888\n",
      "Adam: Epoch 15 Error=0.84076\n",
      "Adam: Epoch 20 Error=0.85247\n",
      "Adam: Epoch 25 Error=0.86375\n",
      "Adam: Epoch 30 Error=0.87435\n",
      "Adam: Epoch 35 Error=0.88404\n",
      "Adam: Epoch 40 Error=0.89251\n",
      "Adam: Epoch 45 Error=0.89970\n",
      "Adam: Epoch 50 Error=0.90566\n",
      "(50000, 1)\n",
      "(50000, 10)\n",
      "Train Percent correct 74.76\n",
      "Adam: Epoch 5 Error=0.91642\n",
      "Adam: Epoch 10 Error=0.92341\n",
      "Adam: Epoch 15 Error=0.92893\n",
      "Adam: Epoch 20 Error=0.93346\n",
      "Adam: Epoch 25 Error=0.93728\n",
      "Adam: Epoch 30 Error=0.94050\n",
      "Adam: Epoch 35 Error=0.94332\n",
      "Adam: Epoch 40 Error=0.94584\n",
      "Adam: Epoch 45 Error=0.94812\n",
      "Adam: Epoch 50 Error=0.95062\n",
      "(10000, 1)\n",
      "(10000, 10)\n",
      "Adam: Epoch 5 Error=0.93691\n",
      "Adam: Epoch 10 Error=0.94194\n",
      "Adam: Epoch 15 Error=0.94574\n",
      "Adam: Epoch 20 Error=0.94876\n",
      "Adam: Epoch 25 Error=0.95099\n",
      "Adam: Epoch 30 Error=0.95315\n",
      "Adam: Epoch 35 Error=0.95491\n",
      "Adam: Epoch 40 Error=0.95645\n",
      "Adam: Epoch 45 Error=0.95774\n",
      "Adam: Epoch 50 Error=0.95886\n",
      "(10000, 1)\n",
      "(10000, 10)\n",
      "Adam: Epoch 5 Error=0.80164\n",
      "Adam: Epoch 10 Error=0.80751\n",
      "Adam: Epoch 15 Error=0.81494\n",
      "Adam: Epoch 20 Error=0.82279\n",
      "Adam: Epoch 25 Error=0.83112\n",
      "Adam: Epoch 30 Error=0.83946\n",
      "Adam: Epoch 35 Error=0.84729\n",
      "Adam: Epoch 40 Error=0.85449\n",
      "Adam: Epoch 45 Error=0.86093\n",
      "Adam: Epoch 50 Error=0.86670\n",
      "(50000, 1)\n",
      "(50000, 10)\n",
      "Train Percent correct 63.86\n",
      "Adam: Epoch 5 Error=0.87489\n",
      "Adam: Epoch 10 Error=0.88159\n",
      "Adam: Epoch 15 Error=0.88744\n",
      "Adam: Epoch 20 Error=0.89271\n",
      "Adam: Epoch 25 Error=0.89753\n",
      "Adam: Epoch 30 Error=0.90214\n",
      "Adam: Epoch 35 Error=0.90663\n",
      "Adam: Epoch 40 Error=0.91109\n",
      "Adam: Epoch 45 Error=0.91538\n",
      "Adam: Epoch 50 Error=0.91953\n",
      "(10000, 1)\n",
      "(10000, 10)\n",
      "Adam: Epoch 5 Error=0.90646\n",
      "Adam: Epoch 10 Error=0.91280\n",
      "Adam: Epoch 15 Error=0.91762\n",
      "Adam: Epoch 20 Error=0.92178\n",
      "Adam: Epoch 25 Error=0.92536\n",
      "Adam: Epoch 30 Error=0.92860\n",
      "Adam: Epoch 35 Error=0.93169\n",
      "Adam: Epoch 40 Error=0.93452\n",
      "Adam: Epoch 45 Error=0.93722\n",
      "Adam: Epoch 50 Error=0.93983\n",
      "(10000, 1)\n",
      "(10000, 10)\n",
      "Adam: Epoch 5 Error=0.81281\n",
      "Adam: Epoch 10 Error=0.82899\n",
      "Adam: Epoch 15 Error=0.84283\n",
      "Adam: Epoch 20 Error=0.85587\n",
      "Adam: Epoch 25 Error=0.86854\n",
      "Adam: Epoch 30 Error=0.88042\n",
      "Adam: Epoch 35 Error=0.89166\n",
      "Adam: Epoch 40 Error=0.90227\n",
      "Adam: Epoch 45 Error=0.91243\n",
      "Adam: Epoch 50 Error=0.92172\n",
      "(50000, 1)\n",
      "(50000, 10)\n",
      "Train Percent correct 80.35\n",
      "Adam: Epoch 5 Error=0.93511\n",
      "Adam: Epoch 10 Error=0.94521\n",
      "Adam: Epoch 15 Error=0.95314\n",
      "Adam: Epoch 20 Error=0.95955\n",
      "Adam: Epoch 25 Error=0.96466\n",
      "Adam: Epoch 30 Error=0.96885\n",
      "Adam: Epoch 35 Error=0.97219\n",
      "Adam: Epoch 40 Error=0.97482\n",
      "Adam: Epoch 45 Error=0.97696\n",
      "Adam: Epoch 50 Error=0.97876\n",
      "(10000, 1)\n",
      "(10000, 10)\n",
      "Adam: Epoch 5 Error=0.95971\n",
      "Adam: Epoch 10 Error=0.96537\n",
      "Adam: Epoch 15 Error=0.96916\n",
      "Adam: Epoch 20 Error=0.97220\n",
      "Adam: Epoch 25 Error=0.97454\n",
      "Adam: Epoch 30 Error=0.97635\n",
      "Adam: Epoch 35 Error=0.97779\n",
      "Adam: Epoch 40 Error=0.97911\n",
      "Adam: Epoch 45 Error=0.98022\n",
      "Adam: Epoch 50 Error=0.98117\n",
      "(10000, 1)\n",
      "(10000, 10)\n",
      "Adam: Epoch 5 Error=0.80175\n",
      "Adam: Epoch 10 Error=0.81432\n",
      "Adam: Epoch 15 Error=0.82415\n",
      "Adam: Epoch 20 Error=0.83201\n",
      "Adam: Epoch 25 Error=0.83918\n",
      "Adam: Epoch 30 Error=0.84724\n",
      "Adam: Epoch 35 Error=0.85667\n",
      "Adam: Epoch 40 Error=0.86822\n",
      "Adam: Epoch 45 Error=0.88048\n",
      "Adam: Epoch 50 Error=0.89213\n",
      "(50000, 1)\n",
      "(50000, 10)\n",
      "Train Percent correct 63.34\n",
      "Adam: Epoch 5 Error=0.90525\n",
      "Adam: Epoch 10 Error=0.91591\n",
      "Adam: Epoch 15 Error=0.92434\n",
      "Adam: Epoch 20 Error=0.93113\n",
      "Adam: Epoch 25 Error=0.93711\n",
      "Adam: Epoch 30 Error=0.94263\n",
      "Adam: Epoch 35 Error=0.94765\n",
      "Adam: Epoch 40 Error=0.95249\n",
      "Adam: Epoch 45 Error=0.95697\n",
      "Adam: Epoch 50 Error=0.96110\n",
      "(10000, 1)\n",
      "(10000, 10)\n",
      "Adam: Epoch 5 Error=0.94522\n",
      "Adam: Epoch 10 Error=0.95261\n",
      "Adam: Epoch 15 Error=0.95747\n",
      "Adam: Epoch 20 Error=0.96170\n",
      "Adam: Epoch 25 Error=0.96489\n",
      "Adam: Epoch 30 Error=0.96744\n",
      "Adam: Epoch 35 Error=0.96950\n",
      "Adam: Epoch 40 Error=0.97134\n",
      "Adam: Epoch 45 Error=0.97293\n",
      "Adam: Epoch 50 Error=0.97416\n",
      "(10000, 1)\n",
      "(10000, 10)\n",
      "  Hidden Layers  Train  Validate   Test   Times\n",
      "0           [0]  92.54     98.16  98.38  211.96\n",
      "1           [5]  74.76     87.54  89.18  208.46\n",
      "2         [5,5]  63.86     77.07  84.49  212.07\n",
      "3       [10,10]  80.35     95.05  95.32  220.83\n",
      "4    [10,10,10]  63.34     90.20  93.93  223.77\n"
     ]
    },
    {
     "data": {
      "text/html": [
       "<div>\n",
       "<style scoped>\n",
       "    .dataframe tbody tr th:only-of-type {\n",
       "        vertical-align: middle;\n",
       "    }\n",
       "\n",
       "    .dataframe tbody tr th {\n",
       "        vertical-align: top;\n",
       "    }\n",
       "\n",
       "    .dataframe thead th {\n",
       "        text-align: right;\n",
       "    }\n",
       "</style>\n",
       "<table border=\"1\" class=\"dataframe\">\n",
       "  <thead>\n",
       "    <tr style=\"text-align: right;\">\n",
       "      <th></th>\n",
       "      <th>0</th>\n",
       "      <th>1</th>\n",
       "      <th>2</th>\n",
       "      <th>3</th>\n",
       "      <th>4</th>\n",
       "      <th>5</th>\n",
       "      <th>6</th>\n",
       "      <th>7</th>\n",
       "      <th>8</th>\n",
       "      <th>9</th>\n",
       "      <th>10</th>\n",
       "    </tr>\n",
       "  </thead>\n",
       "  <tbody>\n",
       "    <tr>\n",
       "      <td>0</td>\n",
       "      <td>Train</td>\n",
       "      <td>0.09864</td>\n",
       "      <td>0.11356</td>\n",
       "      <td>0.09936</td>\n",
       "      <td>0.10202</td>\n",
       "      <td>0.09718</td>\n",
       "      <td>0.09012</td>\n",
       "      <td>0.09902</td>\n",
       "      <td>0.1035</td>\n",
       "      <td>0.09684</td>\n",
       "      <td>0.09976</td>\n",
       "    </tr>\n",
       "    <tr>\n",
       "      <td>1</td>\n",
       "      <td>Tval</td>\n",
       "      <td>0.09910</td>\n",
       "      <td>0.10640</td>\n",
       "      <td>0.09900</td>\n",
       "      <td>0.10300</td>\n",
       "      <td>0.09830</td>\n",
       "      <td>0.09150</td>\n",
       "      <td>0.09670</td>\n",
       "      <td>0.1090</td>\n",
       "      <td>0.10090</td>\n",
       "      <td>0.09610</td>\n",
       "    </tr>\n",
       "    <tr>\n",
       "      <td>2</td>\n",
       "      <td>Ttest</td>\n",
       "      <td>0.09800</td>\n",
       "      <td>0.11350</td>\n",
       "      <td>0.10320</td>\n",
       "      <td>0.10100</td>\n",
       "      <td>0.09820</td>\n",
       "      <td>0.08920</td>\n",
       "      <td>0.09580</td>\n",
       "      <td>0.1028</td>\n",
       "      <td>0.09740</td>\n",
       "      <td>0.10090</td>\n",
       "    </tr>\n",
       "  </tbody>\n",
       "</table>\n",
       "</div>"
      ],
      "text/plain": [
       "       0        1        2        3        4        5        6        7  \\\n",
       "0  Train  0.09864  0.11356  0.09936  0.10202  0.09718  0.09012  0.09902   \n",
       "1   Tval  0.09910  0.10640  0.09900  0.10300  0.09830  0.09150  0.09670   \n",
       "2  Ttest  0.09800  0.11350  0.10320  0.10100  0.09820  0.08920  0.09580   \n",
       "\n",
       "        8        9       10  \n",
       "0  0.1035  0.09684  0.09976  \n",
       "1  0.1090  0.10090  0.09610  \n",
       "2  0.1028  0.09740  0.10090  "
      ]
     },
     "execution_count": 28,
     "metadata": {},
     "output_type": "execute_result"
    }
   ],
   "source": [
    "import time\n",
    "import pandas\n",
    "import math\n",
    "n_epochs = 50\n",
    "learning_rate = .01\n",
    "n_classes = len(np.unique(T))\n",
    "names = ('Hidden Layers', 'Train', 'Validate', 'Test', 'Time')\n",
    "\n",
    "hidden = []\n",
    "train = []\n",
    "validate = []\n",
    "test = []\n",
    "times = []\n",
    "table = []\n",
    "\n",
    "def matrix_1(Xtrain, Ttrain):\n",
    "    start_time = time.time()\n",
    "    nnet.train(Xtrain, Ttrain, n_epochs, learning_rate, method='adam', verbose=True)\n",
    "    elapsed_time = time.time() - start_time\n",
    "    times.append(round(elapsed_time,2))\n",
    "    Classes, Probs = nnet.use(Xtrain)\n",
    "    print(f'Train Percent correct {np.mean(Classes == Ttrain) * 100:.2f}')\n",
    "    train.append(round((np.mean(Classes == Ttrain) * 100),2))\n",
    "\n",
    "def matrix_2(Xval, Tval):\n",
    "    nnet.train(Xval, Tval, n_epochs, learning_rate, method='adam', verbose=True)\n",
    "    Classes, Probs = nnet.use(Xval)\n",
    "    validate.append(round((np.mean(Classes == Tval) * 100),2))\n",
    "    \n",
    "def matrix_3(Xtest, Ttest):\n",
    "    nnet.train(Xtest, Ttest, n_epochs, learning_rate, method='adam', verbose=True)\n",
    "    Classes, Probs = nnet.use(Xtest)\n",
    "    test.append(round((np.mean(Classes == Ttest) * 100),2))\n",
    "    \n",
    "nnet = NeuralNetworkClassifier(Xtrain.shape[1], [], len(classes))\n",
    "hidden.append(\"[0]\")\n",
    "matrix_1(Xtrain, Ttrain)   \n",
    "matrix_2(Xval, Tval)\n",
    "matrix_3(Xtest, Ttest)\n",
    "    \n",
    "nnet = NeuralNetworkClassifier(Xtrain.shape[1], [5], len(classes))\n",
    "hidden.append(\"[5]\")\n",
    "matrix_1(Xtrain, Ttrain)   \n",
    "matrix_2(Xval, Tval)\n",
    "matrix_3(Xtest, Ttest)\n",
    "\n",
    "nnet = NeuralNetworkClassifier(Xtrain.shape[1], [5,5], len(classes))\n",
    "hidden.append(\"[5,5]\")\n",
    "matrix_1(Xtrain, Ttrain)   \n",
    "matrix_2(Xval, Tval)\n",
    "matrix_3(Xtest, Ttest)\n",
    "\n",
    "nnet = NeuralNetworkClassifier(Xtrain.shape[1], [10,10], len(classes))\n",
    "hidden.append(\"[10,10]\")\n",
    "matrix_1(Xtrain, Ttrain)   \n",
    "matrix_2(Xval, Tval)\n",
    "matrix_3(Xtest, Ttest)\n",
    "\n",
    "nnet = NeuralNetworkClassifier(Xtrain.shape[1], [10,10,10], len(classes))\n",
    "hidden.append(\"[10,10,10]\")\n",
    "matrix_1(Xtrain, Ttrain)   \n",
    "matrix_2(Xval, Tval)\n",
    "matrix_3(Xtest, Ttest)\n",
    "\n",
    "df = pandas.DataFrame({'Hidden Layers':hidden, \n",
    "                   'Train':train, \n",
    "                   'Validate':validate,\n",
    "                   'Test':test,\n",
    "                   'Times':times})\n",
    "print(df)\n",
    "\n",
    "classes = np.arange(10)\n",
    "(Ttrain == classes).shape\n",
    "['Ttrain', *(Ttrain == classes).sum(axis=0) / Ttrain.shape[0]]\n",
    "\n",
    "result = []\n",
    "result.append(['Train', *(Ttrain == classes).sum(axis=0) / Ttrain.shape[0]])\n",
    "result.append(['Tval', *(Tval == classes).sum(axis=0) / Tval.shape[0]])\n",
    "result.append(['Ttest', *(Ttest == classes).sum(axis=0) / Ttest.shape[0]])\n",
    "pandas.DataFrame(result)"
   ]
  },
  {
   "cell_type": "markdown",
   "metadata": {},
   "source": [
    "It is likely that my network performed badly on 5 and 8 because of how a 5 can look like a 3 and how 8 is not a very consistent style."
   ]
  },
  {
   "cell_type": "markdown",
   "metadata": {},
   "source": [
    "## `confusion_matrix`\n",
    "\n",
    "Now, write a function named `confusion_matrix` that returns a confusion matrix for any classification problem, returned as a `pandas.DataFrame` as shown in Lecture Notes 12.  It must require two arguments, the predicted classes for each sample and the true classes for each sample.  Here is an example."
   ]
  },
  {
   "cell_type": "code",
   "execution_count": 29,
   "metadata": {},
   "outputs": [],
   "source": [
    "def confusion_matrix(Y_classes, T_data):#classes predicted by nn and the correct classes. guessed labels and actual labels\n",
    "    class_names = np.unique(T_data)\n",
    "    table = []\n",
    "    for true_class in (class_names):#for each actual class range 1-10\n",
    "        row = []\n",
    "        for predicted_class in (class_names):#how many samples that were actually from that class correctly predicted\n",
    "            row.append(100 * np.mean(Y_classes[T_data == true_class] == predicted_class))\n",
    "            #pull out of our classes output of use all the rows for which the correct class is the true class\n",
    "            #true for all the rows corre to samps for the correct is the true class\n",
    "            #true and false mask selects particular classes we produced and see how often they equalled the particular predicted class\n",
    "            # mean for fraction of ones that were correct. Taking the mean of 0's and 1's\n",
    "        table.append(row)\n",
    "\n",
    "    print(f'Test percent correct {np.mean(Y_classes == T_data) * 100:.2f}') \n",
    "    \n",
    "    conf_matrix = pandas.DataFrame(table, index=class_names, columns=class_names)\n",
    "    #conf_matrix.style.background_gradient(cmap='Blues').format(\"{:.1f} %\")\n",
    "    \n",
    "    return conf_matrix"
   ]
  },
  {
   "cell_type": "code",
   "execution_count": 30,
   "metadata": {},
   "outputs": [
    {
     "name": "stdout",
     "output_type": "stream",
     "text": [
      "(10000, 1)\n",
      "(10000, 10)\n",
      "Test percent correct 93.93\n"
     ]
    },
    {
     "data": {
      "text/html": [
       "<div>\n",
       "<style scoped>\n",
       "    .dataframe tbody tr th:only-of-type {\n",
       "        vertical-align: middle;\n",
       "    }\n",
       "\n",
       "    .dataframe tbody tr th {\n",
       "        vertical-align: top;\n",
       "    }\n",
       "\n",
       "    .dataframe thead th {\n",
       "        text-align: right;\n",
       "    }\n",
       "</style>\n",
       "<table border=\"1\" class=\"dataframe\">\n",
       "  <thead>\n",
       "    <tr style=\"text-align: right;\">\n",
       "      <th></th>\n",
       "      <th>0</th>\n",
       "      <th>1</th>\n",
       "      <th>2</th>\n",
       "      <th>3</th>\n",
       "      <th>4</th>\n",
       "      <th>5</th>\n",
       "      <th>6</th>\n",
       "      <th>7</th>\n",
       "      <th>8</th>\n",
       "      <th>9</th>\n",
       "    </tr>\n",
       "  </thead>\n",
       "  <tbody>\n",
       "    <tr>\n",
       "      <td>0</td>\n",
       "      <td>97.551020</td>\n",
       "      <td>0.000000</td>\n",
       "      <td>0.714286</td>\n",
       "      <td>0.000000</td>\n",
       "      <td>0.204082</td>\n",
       "      <td>0.102041</td>\n",
       "      <td>1.224490</td>\n",
       "      <td>0.102041</td>\n",
       "      <td>0.102041</td>\n",
       "      <td>0.000000</td>\n",
       "    </tr>\n",
       "    <tr>\n",
       "      <td>1</td>\n",
       "      <td>0.000000</td>\n",
       "      <td>98.325991</td>\n",
       "      <td>0.704846</td>\n",
       "      <td>0.352423</td>\n",
       "      <td>0.000000</td>\n",
       "      <td>0.264317</td>\n",
       "      <td>0.088106</td>\n",
       "      <td>0.088106</td>\n",
       "      <td>0.088106</td>\n",
       "      <td>0.088106</td>\n",
       "    </tr>\n",
       "    <tr>\n",
       "      <td>2</td>\n",
       "      <td>3.100775</td>\n",
       "      <td>0.484496</td>\n",
       "      <td>92.635659</td>\n",
       "      <td>1.162791</td>\n",
       "      <td>0.484496</td>\n",
       "      <td>0.290698</td>\n",
       "      <td>0.290698</td>\n",
       "      <td>0.678295</td>\n",
       "      <td>0.290698</td>\n",
       "      <td>0.581395</td>\n",
       "    </tr>\n",
       "    <tr>\n",
       "      <td>3</td>\n",
       "      <td>0.000000</td>\n",
       "      <td>0.396040</td>\n",
       "      <td>1.089109</td>\n",
       "      <td>95.643564</td>\n",
       "      <td>0.000000</td>\n",
       "      <td>1.287129</td>\n",
       "      <td>0.000000</td>\n",
       "      <td>0.594059</td>\n",
       "      <td>0.396040</td>\n",
       "      <td>0.594059</td>\n",
       "    </tr>\n",
       "    <tr>\n",
       "      <td>4</td>\n",
       "      <td>0.000000</td>\n",
       "      <td>0.000000</td>\n",
       "      <td>0.101833</td>\n",
       "      <td>0.203666</td>\n",
       "      <td>95.112016</td>\n",
       "      <td>0.305499</td>\n",
       "      <td>1.221996</td>\n",
       "      <td>0.509165</td>\n",
       "      <td>0.407332</td>\n",
       "      <td>2.138493</td>\n",
       "    </tr>\n",
       "    <tr>\n",
       "      <td>5</td>\n",
       "      <td>0.336323</td>\n",
       "      <td>0.112108</td>\n",
       "      <td>0.448430</td>\n",
       "      <td>2.242152</td>\n",
       "      <td>0.784753</td>\n",
       "      <td>89.349776</td>\n",
       "      <td>0.784753</td>\n",
       "      <td>0.000000</td>\n",
       "      <td>5.605381</td>\n",
       "      <td>0.336323</td>\n",
       "    </tr>\n",
       "    <tr>\n",
       "      <td>6</td>\n",
       "      <td>1.043841</td>\n",
       "      <td>0.000000</td>\n",
       "      <td>0.417537</td>\n",
       "      <td>0.000000</td>\n",
       "      <td>0.417537</td>\n",
       "      <td>1.983299</td>\n",
       "      <td>96.033403</td>\n",
       "      <td>0.000000</td>\n",
       "      <td>0.104384</td>\n",
       "      <td>0.000000</td>\n",
       "    </tr>\n",
       "    <tr>\n",
       "      <td>7</td>\n",
       "      <td>0.291829</td>\n",
       "      <td>1.070039</td>\n",
       "      <td>0.972763</td>\n",
       "      <td>0.583658</td>\n",
       "      <td>0.194553</td>\n",
       "      <td>0.000000</td>\n",
       "      <td>0.000000</td>\n",
       "      <td>95.233463</td>\n",
       "      <td>0.000000</td>\n",
       "      <td>1.653696</td>\n",
       "    </tr>\n",
       "    <tr>\n",
       "      <td>8</td>\n",
       "      <td>0.102669</td>\n",
       "      <td>0.000000</td>\n",
       "      <td>0.000000</td>\n",
       "      <td>1.848049</td>\n",
       "      <td>0.616016</td>\n",
       "      <td>9.753593</td>\n",
       "      <td>1.026694</td>\n",
       "      <td>0.000000</td>\n",
       "      <td>85.934292</td>\n",
       "      <td>0.718686</td>\n",
       "    </tr>\n",
       "    <tr>\n",
       "      <td>9</td>\n",
       "      <td>0.099108</td>\n",
       "      <td>0.198216</td>\n",
       "      <td>0.198216</td>\n",
       "      <td>0.991080</td>\n",
       "      <td>2.874133</td>\n",
       "      <td>0.099108</td>\n",
       "      <td>0.297324</td>\n",
       "      <td>1.585728</td>\n",
       "      <td>1.288404</td>\n",
       "      <td>92.368682</td>\n",
       "    </tr>\n",
       "  </tbody>\n",
       "</table>\n",
       "</div>"
      ],
      "text/plain": [
       "           0          1          2          3          4          5  \\\n",
       "0  97.551020   0.000000   0.714286   0.000000   0.204082   0.102041   \n",
       "1   0.000000  98.325991   0.704846   0.352423   0.000000   0.264317   \n",
       "2   3.100775   0.484496  92.635659   1.162791   0.484496   0.290698   \n",
       "3   0.000000   0.396040   1.089109  95.643564   0.000000   1.287129   \n",
       "4   0.000000   0.000000   0.101833   0.203666  95.112016   0.305499   \n",
       "5   0.336323   0.112108   0.448430   2.242152   0.784753  89.349776   \n",
       "6   1.043841   0.000000   0.417537   0.000000   0.417537   1.983299   \n",
       "7   0.291829   1.070039   0.972763   0.583658   0.194553   0.000000   \n",
       "8   0.102669   0.000000   0.000000   1.848049   0.616016   9.753593   \n",
       "9   0.099108   0.198216   0.198216   0.991080   2.874133   0.099108   \n",
       "\n",
       "           6          7          8          9  \n",
       "0   1.224490   0.102041   0.102041   0.000000  \n",
       "1   0.088106   0.088106   0.088106   0.088106  \n",
       "2   0.290698   0.678295   0.290698   0.581395  \n",
       "3   0.000000   0.594059   0.396040   0.594059  \n",
       "4   1.221996   0.509165   0.407332   2.138493  \n",
       "5   0.784753   0.000000   5.605381   0.336323  \n",
       "6  96.033403   0.000000   0.104384   0.000000  \n",
       "7   0.000000  95.233463   0.000000   1.653696  \n",
       "8   1.026694   0.000000  85.934292   0.718686  \n",
       "9   0.297324   1.585728   1.288404  92.368682  "
      ]
     },
     "execution_count": 30,
     "metadata": {},
     "output_type": "execute_result"
    }
   ],
   "source": [
    "Y_classes, Y_probs = nnet.use(Xtest)\n",
    "confusion_matrix(Y_classes, Ttest)"
   ]
  },
  {
   "cell_type": "markdown",
   "metadata": {},
   "source": [
    "## Grading and Check-In\n",
    "Download [A4grader.zip](https://www.cs.colostate.edu/~anderson/cs445/notebooks/A4grader.zip) and extract A4grader.py from it. Run the code in the following cell to demonstrate an example grading session. Remember to test your code with additional tests of your own design. Your notebook must be named as Lastname-A4.ipynb.  \n",
    "\n",
    "When ready, submit your notebook via the A4 link in our class Canvas web page."
   ]
  },
  {
   "cell_type": "code",
   "execution_count": 31,
   "metadata": {},
   "outputs": [
    {
     "name": "stdout",
     "output_type": "stream",
     "text": [
      "\n",
      "======================= Code Execution =======================\n",
      "\n",
      "Extracting python code from notebook named 'A4.2 Classification of Hand-Drawn Digits.ipynb' and storing in notebookcode.py\n",
      "Removing all statements that are not function or class defs or import statements.\n",
      "\n",
      "Testing\n",
      "\n",
      "    nn_reg = NeuralNetwork(1, [5], 2)\n",
      "    nn_class = NeuralNetworkClassifier(1, [5], 5)\n",
      "\n",
      "    nn_reg.forward_pass.__func__ == nn_class.forward_pass.__func__\n",
      "\n",
      "\n",
      "--- 10/10 points.  Function NeuralNetwork.forward_pass is correctly not overridden in NeuralNetworkClassifier.\n",
      "\n",
      "Testing\n",
      "\n",
      "    nn_reg = NeuralNetwork(1, [5], 2)\n",
      "    nn_class = NeuralNetworkClassifier(1, [5], 5)\n",
      "\n",
      "    nn_reg.train.__func__ != nn_class.train.__func__\n",
      "\n",
      "\n",
      "--- 10/10 points.  Function NeuralNetwork.train is correctly overridden in NeuralNetworkClassifier.\n",
      "\n",
      "Testing\n",
      "\n",
      "    nn_reg = NeuralNetwork(1, [5], 2)\n",
      "    nn_class = NeuralNetworkClassifier(1, [5], 5)\n",
      "\n",
      "    nn_reg.use.__func__ != nn_class.use.__func__\n",
      "\n",
      "\n",
      "--- 10/10 points.  Function NeuralNetwork.use is correctly overridden in NeuralNetworkClassifier.\n",
      "\n",
      "Testing\n",
      "\n",
      "    nn_class = NeuralNetworkClassifier(1, [5], 5)\n",
      "    result = nn_class.makeIndicatorVars(np.arange(5).reshape(-1, 1))\n",
      "\n",
      "\n",
      "\n",
      "--- 10/10 points.  makeIndicatorVars correctly returned all 1s on diagonal.\n",
      "\n",
      "Testing\n",
      "\n",
      "    nn_class = NeuralNetworkClassifier(1, [5], 5)\n",
      "    result = nn_class.softmax(np.array([[-5.5, 5.5]]))\n",
      "\n",
      "\n",
      "\n",
      "--- 10/10 points.  softmax returned correct answer.\n",
      "\n",
      "Testing\n",
      "\n",
      "    X = np.arange(20).reshape(20, 1)\n",
      "    X = np.hstack((X, X[::-1, :]))\n",
      "    T = np.array(['ends', 'mid'])[(np.abs(X[:, 0:1] - X[:, 1:2]) < 6).astype(int)]\n",
      "\n",
      "    np.random.seed(42)\n",
      "    \n",
      "    nnet = NeuralNetworkClassifier(X.shape[1], [10, 10], len(np.unique(T)), activation_function='relu')\n",
      "    nnet.train(X, T, 500, 0.001, method='adam', verbose=False)\n",
      "\n",
      "    Y_classes, Y_probs = nnet.use(X)\n",
      "\n",
      "    percent_correct = 100 * np.mean(Y_classes == T)\n",
      "\n",
      "Adam: Epoch 50 Error=0.74489\n",
      "Adam: Epoch 100 Error=0.75837\n",
      "Adam: Epoch 150 Error=0.79285\n",
      "Adam: Epoch 200 Error=0.84487\n",
      "Adam: Epoch 250 Error=0.89611\n",
      "Adam: Epoch 300 Error=0.92994\n",
      "Adam: Epoch 350 Error=0.94947\n",
      "Adam: Epoch 400 Error=0.96140\n",
      "Adam: Epoch 450 Error=0.96942\n",
      "Adam: Epoch 500 Error=0.97522\n",
      "(20, 1)\n",
      "(20, 2)\n",
      "\n",
      "--- 30/30 points. Correctly returned 100.0.\n",
      "\n",
      "Testing\n",
      "\n",
      "    cm = confusion_matrix(Y_classes, T)\n",
      "\n",
      "Test percent correct 100.00\n",
      "\n",
      "--- 10/10 points. Correctly returned DataFrame:\n",
      "       ends    mid\n",
      "ends  100.0    0.0\n",
      "mid     0.0  100.0\n",
      "\n",
      "======================================================================\n",
      "C:\\Users\\jenpyle\\Desktop\\CS445\\Untitled Folder Execution Grade is 90 / 90\n",
      "======================================================================\n",
      "\n",
      " __ / 10 Based on other testing and the results you obtain and your discussions.\n",
      "\n",
      "======================================================================\n",
      "C:\\Users\\jenpyle\\Desktop\\CS445\\Untitled Folder FINAL GRADE is  _  / 100\n",
      "======================================================================\n",
      "\n",
      "Extra Credit:\n",
      "\n",
      "Earn 1 extra credit point on this assignment by doing the following steps.\n",
      "\n",
      "1. Combine the train, validate, and test partitions loaded from the MNIST data file into \n",
      "   two matrices, X and T.\n",
      "\n",
      "2. Using adam , relu and just one value of learning_rate and n_epochs, compare several \n",
      "   hidden layer architectures. Do so by applying our generate_k_fold_cross_validation_sets\n",
      "   function as defined in Lecture Notes 12 which forms stratified partitioning, for use\n",
      "   in classification problems, to your X and T matrices using n_fold of 3.\n",
      "\n",
      "3. Show results and discuss which architectures you find works the best, and how you\n",
      "    determined this.\n",
      "\n",
      "C:\\Users\\jenpyle\\Desktop\\CS445\\Untitled Folder EXTRA CREDIT is 0 / 1\n"
     ]
    }
   ],
   "source": [
    "%run -i A4grader.py"
   ]
  },
  {
   "cell_type": "markdown",
   "metadata": {},
   "source": [
    "## Extra Credit\n",
    "Earn 1 extra credit point on this assignment by doing the following.\n",
    "\n",
    "1. Combine the train, validate, and test partitions loaded from the MNIST data file into two matrices, `X` and `T`. \n",
    "2. Using `adam` , `relu` and just one value of `learning_rate` and `n_epochs`, compare several hidden layer architectures. Do so by applying our `generate_k_fold_cross_validation_sets` function as defined in Lecture Notes 12 which forms stratified partitioning, for use in classification problems, to your `X` and `T` matrices using `n_fold` of 3.\n",
    "3. Show results and discuss which architectures you find works the best, and how you determined this."
   ]
  },
  {
   "cell_type": "code",
   "execution_count": null,
   "metadata": {},
   "outputs": [],
   "source": []
  }
 ],
 "metadata": {
  "kernelspec": {
   "display_name": "Python 3",
   "language": "python",
   "name": "python3"
  },
  "language_info": {
   "codemirror_mode": {
    "name": "ipython",
    "version": 3
   },
   "file_extension": ".py",
   "mimetype": "text/x-python",
   "name": "python",
   "nbconvert_exporter": "python",
   "pygments_lexer": "ipython3",
   "version": "3.7.4"
  },
  "toc": {
   "base_numbering": 1,
   "nav_menu": {},
   "number_sections": true,
   "sideBar": true,
   "skip_h1_title": false,
   "title_cell": "Table of Contents",
   "title_sidebar": "Contents",
   "toc_cell": false,
   "toc_position": {},
   "toc_section_display": true,
   "toc_window_display": true
  }
 },
 "nbformat": 4,
 "nbformat_minor": 2
}
